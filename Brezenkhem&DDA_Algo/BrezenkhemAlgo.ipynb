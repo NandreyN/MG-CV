{
 "cells": [
  {
   "cell_type": "code",
   "execution_count": 1,
   "metadata": {},
   "outputs": [],
   "source": [
    "from sys import path\n",
    "path.append('..')\n",
    "import skeleton\n",
    "from PIL import Image, ImageColor, ImageDraw"
   ]
  },
  {
   "cell_type": "code",
   "execution_count": 2,
   "metadata": {},
   "outputs": [],
   "source": [
    "class LineDrawer(skeleton.GridUndoableImageProvider):\n",
    "    OUTPUT_PATH = r\"out.jpeg\"\n",
    "    OUTPUT_FORMAT = r\"JPEG\"\n",
    "    INVALID_COORDINATE = -1\n",
    "    \n",
    "    def __init__(self):\n",
    "        super().__init__()\n",
    "        self.__start_x = self.__start_y =  self.INVALID_COORDINATE\n",
    "    \n",
    "\n",
    "    def __signum(self, number):\n",
    "        if number == 0:\n",
    "            return 0\n",
    "        return 1 if number > 0 else -1\n",
    "    \n",
    "\n",
    "    def __bresenhams_line(self, x0, y0, x1, y1):\n",
    "        dx, dy = abs(x1 - x0), abs(y1 - y0)\n",
    "        signum_1, signum_2 = (\n",
    "                self.__signum(x1 - x0),\n",
    "                self.__signum(y1 - y0)\n",
    "        )\n",
    "        var_swap = False\n",
    "        \n",
    "        if (dy > dx):\n",
    "            dy, dx = dx, dy\n",
    "            var_swap = True\n",
    "            \n",
    "        t = 2 * dy - dx\n",
    "        for i in range(1, dx):\n",
    "            super().get_drawer().point((x0, y0),fill='black')\n",
    "            super().add_to_storage((x0, y0))\n",
    "            \n",
    "            while t >= 0:\n",
    "                if var_swap:\n",
    "                    x0 += signum_1\n",
    "                else:\n",
    "                    y0 += signum_2\n",
    "                t -= 2*dx\n",
    "            \n",
    "            if var_swap:\n",
    "                y0 += signum_2\n",
    "            else:\n",
    "                x0 += signum_1\n",
    "            t += 2*dy\n",
    "\n",
    "\n",
    "    def __DDA_line(self, x1, y1, x2, y2):\n",
    "        steps_count = max(abs(x1 - x2), abs(y1 - y2)) + 1\n",
    "        x, y = x1, y1\n",
    "        e, de = 1, 1\n",
    "        for i in range(steps_count + 1):\n",
    "            self.get_drawer().point((x,y), fill= 'black')\n",
    "            super().add_to_storage((x0, y0))\n",
    "            \n",
    "            if e >= .5:\n",
    "                y += 1\n",
    "                x += 1\n",
    "                e += de - 1\n",
    "            else:\n",
    "                x += 1\n",
    "                e += de\n",
    "\n",
    "\n",
    "    def save(self):\n",
    "        super().get_image().save(self.OUTPUT_PATH, self.OUTPUT_FORMAT)\n",
    "\n",
    "    \n",
    "    def reset_start_coordinates(self):\n",
    "        self.__start_x = self.__start_y = self.INVALID_COORDINATE\n",
    "        super().clear_storage()\n",
    "    \n",
    "    \n",
    "    def interactive_bresenhams_line(self, x, y, undo_last):\n",
    "        x, y = self.transform_coords_to_grid((x,y))\n",
    "        if undo_last:\n",
    "            super().undo()\n",
    "            super().clear_storage()\n",
    "\n",
    "        self.__bresenhams_line(\n",
    "            self.__start_x,\n",
    "            self.__start_y,\n",
    "            x, y\n",
    "        )\n",
    "        \n",
    "    \n",
    "    def interactive_dda(self, x, y,undo_last):\n",
    "        x, y = self.transform_coords_to_grid((x,y))\n",
    "        if undo_last:\n",
    "            super().undo()\n",
    "            super().clear_storage()\n",
    "            \n",
    "        self.__DDA_line(\n",
    "            self.__start_x,\n",
    "            self.__start_y,\n",
    "            x, y\n",
    "        )\n",
    "    \n",
    "    \n",
    "    def update_start_coordinates(self, x, y):\n",
    "        self.__start_x, self.__start_y = self.transform_coords_to_grid((x,y))\n",
    "        super().clear_storage()"
   ]
  },
  {
   "cell_type": "code",
   "execution_count": 3,
   "metadata": {},
   "outputs": [],
   "source": [
    "line_drawer = LineDrawer()\n",
    "frame = skeleton.get_frame('Segment',line_drawer)\n",
    "events = [\n",
    "    skeleton.LMB_PRESS,\n",
    "    skeleton.GRAG_LMB_PRESSED,\n",
    "    skeleton.LMB_RELEASED\n",
    "]\n",
    "\n",
    "handlers = [\n",
    "    lambda event : line_drawer.update_start_coordinates(event.x, event.y),\n",
    "    lambda event : line_drawer.interactive_bresenhams_line(event.x, event.y, True),\n",
    "    lambda event : line_drawer.interactive_bresenhams_line(event.x, event.y, False)\n",
    "]\n",
    "\n",
    "frame.bind_handlers(events, handlers)"
   ]
  },
  {
   "cell_type": "code",
   "execution_count": 4,
   "metadata": {},
   "outputs": [],
   "source": [
    "frame.start()"
   ]
  },
  {
   "cell_type": "code",
   "execution_count": 5,
   "metadata": {},
   "outputs": [
    {
     "data": {
      "image/png": "[encoded data removed]",
      "text/plain": [
       "<PIL.Image.Image image mode=RGB size=500x500 at 0x28D1873B1D0>"
      ]
     },
     "execution_count": 5,
     "metadata": {},
     "output_type": "execute_result"
    }
   ],
   "source": [
    "line_drawer.get_image()"
   ]
  }
 ],
 "metadata": {
  "kernelspec": {
   "display_name": "Python 3",
   "language": "python",
   "name": "python3"
  },
  "language_info": {
   "codemirror_mode": {
    "name": "ipython",
    "version": 3
   },
   "file_extension": ".py",
   "mimetype": "text/x-python",
   "name": "python",
   "nbconvert_exporter": "python",
   "pygments_lexer": "ipython3",
   "version": "3.6.5"
  }
 },
 "nbformat": 4,
 "nbformat_minor": 2
}
