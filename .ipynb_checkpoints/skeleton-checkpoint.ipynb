{
 "cells": [
  {
   "cell_type": "code",
   "execution_count": 12,
   "metadata": {},
   "outputs": [],
   "source": [
    "import tkinter\n",
    "from PIL import Image, ImageTk"
   ]
  },
  {
   "cell_type": "code",
   "execution_count": 13,
   "metadata": {},
   "outputs": [],
   "source": [
    "LMB_PRESS, GRAG_LMB_PRESSED, LMB_RELEASED = '<Button-1>', '<B1-Motion>', '<ButtonRelease-1>'"
   ]
  },
  {
   "cell_type": "code",
   "execution_count": 17,
   "metadata": {},
   "outputs": [],
   "source": [
    "class LabFrame():\n",
    "    def __init__(self, image_repo, master):\n",
    "        self.__image_repo = image_repo\n",
    "        image_pil = self.__extract_image()\n",
    "        \n",
    "        self.__master = master\n",
    "        self.__image = image_pil\n",
    "        self.__canvas = tkinter.Canvas(\n",
    "            master,\n",
    "            width = image_pil.size[0],\n",
    "            height = image_pil.size[1]\n",
    "        )\n",
    "        self.__canvas.pack()\n",
    "\n",
    "        master.image_tk = self.__image_tk = ImageTk.PhotoImage(self.__image)        \n",
    "        self.__image_area = self.__canvas.create_image(\n",
    "            self.__image.size[0] // 2,\n",
    "            self.__image.size[1] // 2,\n",
    "            image = self.__image_tk\n",
    "        )\n",
    "        self.__canvas.image = self.__image_tk\n",
    "        self.__master.after(200, self.__extract_image)\n",
    "    \n",
    "    \n",
    "    def bind_handlers(self,keys_set, handle_funcs):\n",
    "        for key, handler in zip(keys_set, handle_funcs):\n",
    "            self.__canvas.bind(key, handler)\n",
    "\n",
    "            \n",
    "    def __extract_image(self):\n",
    "        return self.__image_repo.get_image()\n",
    "\n",
    "    def __update_canvas_image(self):\n",
    "        self.__image_tk = ImageTk.PhotoImage(self.__extract_image())\n",
    "        self.__canvas.itemconfig(self.__image_area, image = self.__image_tk)\n",
    "        print('Img upd')\n",
    "        \n",
    "    def start(self):\n",
    "        tkinter.mainloop()\n"
   ]
  },
  {
   "cell_type": "code",
   "execution_count": 15,
   "metadata": {},
   "outputs": [],
   "source": [
    "def get_frame(image_keeper):\n",
    "    return LabFrame(image_keeper, tkinter.Tk())"
   ]
  }
 ],
 "metadata": {
  "kernelspec": {
   "display_name": "Python 3",
   "language": "python",
   "name": "python3"
  },
  "language_info": {
   "codemirror_mode": {
    "name": "ipython",
    "version": 3
   },
   "file_extension": ".py",
   "mimetype": "text/x-python",
   "name": "python",
   "nbconvert_exporter": "python",
   "pygments_lexer": "ipython3",
   "version": "3.6.5"
  }
 },
 "nbformat": 4,
 "nbformat_minor": 2
}
